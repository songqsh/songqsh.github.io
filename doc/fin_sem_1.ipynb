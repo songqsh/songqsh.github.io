{
 "cells": [
  {
   "cell_type": "markdown",
   "metadata": {
    "colab_type": "text",
    "id": "hx_mBjclsh2e"
   },
   "source": [
    "# Seminar on Financial Mathematics at WPI\n",
    "\n",
    "- WPI campus map is [here](https://www.wpi.edu/sites/default/files/docs/About-WPI/WPI_CampusMap.pdf).\n",
    "WPI calendar is [here](https://www.wpi.edu/academics/calendar-catalogs)."
   ]
  },
  {
   "cell_type": "markdown",
   "metadata": {
    "colab_type": "text",
    "id": "Z1MpvS5Ush2f"
   },
   "source": [
    "__Fall 2019__ \n",
    "\n",
    "Regular meeting time is Tuesday 4-5pm in SH203. "
   ]
  },
  {
   "cell_type": "markdown",
   "metadata": {
    "colab_type": "text",
    "id": "TF85tsWMsh2g"
   },
   "source": [
    "- Sep 10th, 4-5pm, [Hao Xing](http://www.bu.edu/questrom/profile/hao-xing/) from BU.\n",
    "  - Title: Rational inattention and dynamic discrete choice ([abstract](190910_haoxing.md))\n",
    "  \n",
    "- Oct 8th, 4-5pm, [Alex Hening](https://sites.tufts.edu/hening/) from Tufts.\n",
    "  - Title: The Inverse First Passage Time Problem for killed Brownian motion \n",
    "  ([abstract](hening.pdf), [short abstract](hening_short.txt))\n",
    "\n",
    "- Oct 15th, Term Break\n",
    "\n",
    "- Oct 29th, 4-5pm, Ju-Yi Yen, from University of Cincinatti\n",
    "    - Title: Limit theorems and regenerative processes ([abstract](191029yen.txt))\n",
    "\n",
    "- Nov 5th, 4-5pm, [Lingjiong Zhu](https://www.math.fsu.edu/People/faculty.php?u=zhu) from FSU.\n",
    "    - Title: Stochastic Gradient Hamiltonian Monte Carlo for Non-Convex Stochastic Optimization \n",
    "    ([abstract](191105zhu.txt))\n",
    "\n",
    "\n"
   ]
  },
  {
   "cell_type": "markdown",
   "metadata": {
    "colab": {},
    "colab_type": "code",
    "id": "D_wlYSp4sh2g"
   },
   "source": [
    "__Spring 2020__ \n",
    "\n",
    "Regular meeting time is Monday 4-5pm at SH306. [Room booking](2020spring_room.pdf)"
   ]
  },
  {
   "cell_type": "markdown",
   "metadata": {},
   "source": [
    "- Feb 24, [Soctt Robertson](https://www.bu.edu/questrom/profile/scott-robertson/) from BU\n",
    "    - Title: TBD\n",
    "- Mar 10, Term Break\n",
    "- Mar 16, [Chao Zhu](https://uwm.edu/math/people/zhu-chao/) from UWM\n",
    "    - Title: TBD\n",
    "- Mar 23, [Tim Leung](https://amath.washington.edu/people/tim-leung) from UW-Seatle\n",
    "    - Title: TBD\n",
    "- Apr 20th, Patriots day"
   ]
  },
  {
   "cell_type": "code",
   "execution_count": null,
   "metadata": {},
   "outputs": [],
   "source": []
  }
 ],
 "metadata": {
  "colab": {
   "name": "fin_sem.ipynb",
   "provenance": [],
   "version": "0.3.2"
  },
  "kernelspec": {
   "display_name": "Python 3",
   "language": "python",
   "name": "python3"
  },
  "language_info": {
   "codemirror_mode": {
    "name": "ipython",
    "version": 3
   },
   "file_extension": ".py",
   "mimetype": "text/x-python",
   "name": "python",
   "nbconvert_exporter": "python",
   "pygments_lexer": "ipython3",
   "version": "3.7.4"
  }
 },
 "nbformat": 4,
 "nbformat_minor": 1
}
