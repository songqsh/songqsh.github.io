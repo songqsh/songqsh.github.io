{
  "nbformat": 4,
  "nbformat_minor": 0,
  "metadata": {
    "kernelspec": {
      "display_name": "Python 3",
      "language": "python",
      "name": "python3"
    },
    "language_info": {
      "codemirror_mode": {
        "name": "ipython",
        "version": 3
      },
      "file_extension": ".py",
      "mimetype": "text/x-python",
      "name": "python",
      "nbconvert_exporter": "python",
      "pygments_lexer": "ipython3",
      "version": "3.6.4"
    },
    "colab": {
      "name": "fin_sem.ipynb",
      "version": "0.3.2",
      "provenance": []
    }
  },
  "cells": [
    {
      "cell_type": "markdown",
      "metadata": {
        "id": "hx_mBjclsh2e",
        "colab_type": "text"
      },
      "source": [
        "# Seminar on Financial Mathematics at WPI"
      ]
    },
    {
      "cell_type": "markdown",
      "metadata": {
        "id": "Z1MpvS5Ush2f",
        "colab_type": "text"
      },
      "source": [
        "__Fall 2019__ \n",
        "\n",
        "Regular meeting time is Tuesday 4-5pm."
      ]
    },
    {
      "cell_type": "markdown",
      "metadata": {
        "id": "TF85tsWMsh2g",
        "colab_type": "text"
      },
      "source": [
        "- Sep 10th, 4-5pm, [Hao Xing](http://www.bu.edu/questrom/profile/hao-xing/) from BU.\n",
        "  - Title: Rational inattention and dynamic discrete choice ([abstract](190910_haoxing.md))\n",
        "  \n",
        "- Oct 8th, 4-5pm, [Alex Hening](https://sites.tufts.edu/hening/) from Tufts.\n"
      ]
    },
    {
      "cell_type": "code",
      "metadata": {
        "id": "D_wlYSp4sh2g",
        "colab_type": "code",
        "colab": {}
      },
      "source": [
        ""
      ],
      "execution_count": 0,
      "outputs": []
    }
  ]
}