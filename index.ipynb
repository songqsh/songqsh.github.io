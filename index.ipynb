{
 "cells": [
  {
   "cell_type": "markdown",
   "metadata": {
    "colab_type": "text",
    "id": "h7maORI3ssau"
   },
   "source": [
    "# Qingshuo Song\n",
    "\n",
    "__Contacts__\n",
    "\n",
    "    - Associate professor, Mathematical Science, WPI\n",
    "    - 202A Stratton Hall (office location), +1-508-831-6273 (office phone)"
   ]
  },
  {
   "cell_type": "markdown",
   "metadata": {
    "colab_type": "text",
    "id": "bQA4Uwqzssay"
   },
   "source": [
    "__Short Bio__\n",
    "\n",
    "Qingshuo Song's research interests include stochastic control theory, and its applications to mathematical finance and various engineering problems. Prior to joining Worcester Polytechnic Institute in 2019 as an associate professor, he had been working with City University of Hong Kong (Associate Professor 2010-2018) during 2010-2018, University of Michigan (as a postdoc) half year in 2019 and University of Southern California (as a postdoc) during 2006-2009.\n",
    "Qingshuo received his BSc (1996) and MA (1999) from Nankai University, MA and PhD (2006) from Wayne State University. "
   ]
  },
  {
   "cell_type": "markdown",
   "metadata": {
    "colab_type": "text",
    "id": "LJwEkxtnssax"
   },
   "source": [
    "__I also have other personal webpages__\n",
    "\n",
    "- [song@arXiv](https://arxiv.org/a/song_q_2.html), \n",
    "  [song@gscholar](https://scholar.google.com.hk/citations?user=a55OuBUAAAAJ&hl=en),\n",
    "  [Orcid](https://orcid.org/0000-0002-9289-7462),\n",
    "  [wordpress](https://01law.wordpress.com/),\n",
    "  [GitRepos](https://github.com/songqsh)"
   ]
  },
  {
   "cell_type": "markdown",
   "metadata": {
    "colab": {},
    "colab_type": "code",
    "id": "-rPI9YOytgj6"
   },
   "source": [
    "__[Seminar on Financial Seminar at WPI](doc/fin_sem.html)__"
   ]
  },
  {
   "cell_type": "code",
   "execution_count": null,
   "metadata": {},
   "outputs": [],
   "source": []
  }
 ],
 "metadata": {
  "colab": {
   "name": "index.ipynb",
   "provenance": [],
   "version": "0.3.2"
  },
  "kernelspec": {
   "display_name": "Python 3",
   "language": "python",
   "name": "python3"
  },
  "language_info": {
   "codemirror_mode": {
    "name": "ipython",
    "version": 3
   },
   "file_extension": ".py",
   "mimetype": "text/x-python",
   "name": "python",
   "nbconvert_exporter": "python",
   "pygments_lexer": "ipython3",
   "version": "3.6.4"
  }
 },
 "nbformat": 4,
 "nbformat_minor": 1
}
