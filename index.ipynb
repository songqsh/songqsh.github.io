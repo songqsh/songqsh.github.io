{
 "cells": [
  {
   "cell_type": "markdown",
   "metadata": {},
   "source": [
    "# Qingshuo Song\n",
    "\n",
    "- ASSOCIATE PROFESSOR, MATHEMATICAL SCIENCE, WPI\n",
    "- 202A Stratton Hall (office location)\n",
    "- +1-508-831-6273 (office phone)"
   ]
  },
  {
   "cell_type": "markdown",
   "metadata": {},
   "source": [
    "Welcome to my webpage. I also have other pages:\n",
    "- [song@arXiv](https://arxiv.org/a/song_q_2.html), \n",
    "  [song@gscholar](https://scholar.google.com.hk/citations?user=a55OuBUAAAAJ&hl=en),\n",
    "  [Orcid](https://orcid.org/0000-0002-9289-7462),\n",
    "  [wordpress](https://01law.wordpress.com/),\n",
    "  [GitRepos](https://github.com/songqsh)"
   ]
  },
  {
   "cell_type": "markdown",
   "metadata": {},
   "source": [
    "## Short Bio\n",
    "\n",
    "Qingshuo Song's research interests include stochastic control theory, and its applications to mathematical finance and various engineering problems. Qingshuo received his BSc (1996) and MA (1999) from Nankai University, MA and PhD (2006) from Wayne State University. Prior to joining Worcester Polytechnic Institute in 2019, he had been working with City University of Hong Kong (Associate Professor 2010-2018), University of Michigan (half year in 2009 as a postdoc) and University of Southern California (2006-2009 as a postdoc)."
   ]
  }
 ],
 "metadata": {
  "kernelspec": {
   "display_name": "Python 3",
   "language": "python",
   "name": "python3"
  },
  "language_info": {
   "codemirror_mode": {
    "name": "ipython",
    "version": 3
   },
   "file_extension": ".py",
   "mimetype": "text/x-python",
   "name": "python",
   "nbconvert_exporter": "python",
   "pygments_lexer": "ipython3",
   "version": "3.7.1"
  }
 },
 "nbformat": 4,
 "nbformat_minor": 2
}
