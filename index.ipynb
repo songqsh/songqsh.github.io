{
  "nbformat": 4,
  "nbformat_minor": 0,
  "metadata": {
    "kernelspec": {
      "display_name": "Python 3",
      "language": "python",
      "name": "python3"
    },
    "language_info": {
      "codemirror_mode": {
        "name": "ipython",
        "version": 3
      },
      "file_extension": ".py",
      "mimetype": "text/x-python",
      "name": "python",
      "nbconvert_exporter": "python",
      "pygments_lexer": "ipython3",
      "version": "3.7.1"
    },
    "colab": {
      "name": "index.ipynb",
      "version": "0.3.2",
      "provenance": []
    }
  },
  "cells": [
    {
      "cell_type": "markdown",
      "metadata": {
        "id": "h7maORI3ssau",
        "colab_type": "text"
      },
      "source": [
        "# Qingshuo Song\n",
        "\n",
        "Contacts:\n",
        "    - Associate professor, Mathematical Science, WPI\n",
        "    - 202A Stratton Hall (office location), +1-508-831-6273 (office phone)"
      ]
    },
    {
      "cell_type": "markdown",
      "metadata": {
        "id": "bQA4Uwqzssay",
        "colab_type": "text"
      },
      "source": [
        "## Short Bio\n",
        "\n",
        "Qingshuo Song's research interests include stochastic control theory, and its applications to mathematical finance and various engineering problems. Prior to joining Worcester Polytechnic Institute in 2019 as an associate professor, he had been working with City University of Hong Kong (Associate Professor 2010-2018) during 2010-2018, University of Michigan (as a postdoc) half year in 2019 and University of Southern California (as a postdoc) during 2006-2009.\n",
        "Qingshuo received his BSc (1996) and MA (1999) from Nankai University, MA and PhD (2006) from Wayne State University. "
      ]
    },
    {
      "cell_type": "markdown",
      "metadata": {
        "id": "LJwEkxtnssax",
        "colab_type": "text"
      },
      "source": [
        "I also have other personal webpages:\n",
        "- [song@arXiv](https://arxiv.org/a/song_q_2.html), \n",
        "  [song@gscholar](https://scholar.google.com.hk/citations?user=a55OuBUAAAAJ&hl=en),\n",
        "  [Orcid](https://orcid.org/0000-0002-9289-7462),\n",
        "  [wordpress](https://01law.wordpress.com/),\n",
        "  [GitRepos](https://github.com/songqsh)"
      ]
    },
    {
      "cell_type": "code",
      "metadata": {
        "id": "-rPI9YOytgj6",
        "colab_type": "code",
        "colab": {}
      },
      "source": [
        ""
      ],
      "execution_count": 0,
      "outputs": []
    }
  ]
}